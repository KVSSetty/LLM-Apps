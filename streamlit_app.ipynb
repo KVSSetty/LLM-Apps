{
 "cells": [
  {
   "cell_type": "code",
   "execution_count": 1,
   "id": "ee62770b-1a31-4207-8eb0-c9378a074f80",
   "metadata": {},
   "outputs": [
    {
     "name": "stderr",
     "output_type": "stream",
     "text": [
      "/Volumes/data/LC-projects/venv/lib/python3.9/site-packages/urllib3/__init__.py:34: NotOpenSSLWarning: urllib3 v2.0 only supports OpenSSL 1.1.1+, currently the 'ssl' module is compiled with 'LibreSSL 2.8.3'. See: https://github.com/urllib3/urllib3/issues/3020\n",
      "  warnings.warn(\n"
     ]
    }
   ],
   "source": [
    "import validators, streamlit as st\n",
    "from langchain.chat_models import ChatOpenAI\n",
    "from langchain.document_loaders import UnstructuredURLLoader\n",
    "from langchain.chains.summarize import load_summarize_chain\n",
    "from langchain.prompts import PromptTemplate\n"
   ]
  },
  {
   "cell_type": "code",
   "execution_count": 1,
   "id": "de03cf81-435e-4b8d-8f6e-6e2494c5bc7d",
   "metadata": {},
   "outputs": [
    {
     "name": "stdout",
     "output_type": "stream",
     "text": [
      "Requirement already satisfied: validators in /Volumes/data/LC-projects/venv/lib/python3.9/site-packages (0.20.0)\n",
      "Requirement already satisfied: decorator>=3.4.0 in /Volumes/data/LC-projects/venv/lib/python3.9/site-packages (from validators) (5.1.1)\n"
     ]
    }
   ],
   "source": [
    "!pip install validators"
   ]
  },
  {
   "cell_type": "code",
   "execution_count": 5,
   "id": "b86eba6b-6777-4301-92e9-746c24e97b53",
   "metadata": {
    "tags": []
   },
   "outputs": [],
   "source": [
    "#!pip install streamlit"
   ]
  },
  {
   "cell_type": "code",
   "execution_count": 6,
   "id": "58a59e49-224c-4a45-9768-7c1c4d523a67",
   "metadata": {},
   "outputs": [
    {
     "name": "stderr",
     "output_type": "stream",
     "text": [
      "2023-07-05 05:57:41.216 \n",
      "  \u001b[33m\u001b[1mWarning:\u001b[0m to view this Streamlit app on a browser, run it with the following\n",
      "  command:\n",
      "\n",
      "    streamlit run /Volumes/data/LC-projects/venv/lib/python3.9/site-packages/ipykernel_launcher.py [ARGUMENTS]\n"
     ]
    }
   ],
   "source": [
    "# Streamlit app\n",
    "st.subheader('Summarize URL')\n",
    "\n",
    "# Get OpenAI API key and URL to be summarized\n",
    "with st.sidebar:\n",
    "    openai_api_key = st.text_input(\"OpenAI API key\", value=\"\", type=\"password\")\n",
    "    st.caption(\"*If you don't have an OpenAI API key, get it [here](https://platform.openai.com/account/api-keys).*\")\n",
    "    model = st.selectbox(\"OpenAI chat model\", (\"gpt-3.5-turbo\", \"gpt-3.5-turbo-16k\"))\n",
    "    st.caption(\"*If the article is long, choose gpt-3.5-turbo-16k.*\")\n",
    "url = st.text_input(\"URL\", label_visibility=\"collapsed\")\n",
    "\n",
    "# If 'Summarize' button is clicked\n",
    "if st.button(\"Summarize\"):\n",
    "    # Validate inputs\n",
    "    if not openai_api_key.strip() or not url.strip():\n",
    "        st.error(\"Please provide the missing fields.\")\n",
    "    elif not validators.url(url):\n",
    "        st.error(\"Please enter a valid URL.\")\n",
    "    else:\n",
    "        try:\n",
    "            with st.spinner(\"Please wait...\"):\n",
    "                # Load URL data\n",
    "                loader = UnstructuredURLLoader(urls=[url])\n",
    "                data = loader.load()\n",
    "                \n",
    "                # Initialize the ChatOpenAI module, load and run the summarize chain\n",
    "                llm = ChatOpenAI(temperature=0, model=model, openai_api_key=openai_api_key)\n",
    "                prompt_template = \"\"\"Write a summary of the following in 250-300 words:\n",
    "                    \n",
    "                    {text}\n",
    "\n",
    "                \"\"\"\n",
    "                prompt = PromptTemplate(template=prompt_template, input_variables=[\"text\"])\n",
    "                chain = load_summarize_chain(llm, chain_type=\"stuff\", prompt=prompt)\n",
    "                summary = chain.run(data)\n",
    "\n",
    "                st.success(summary)\n",
    "        except Exception as e:\n",
    "            st.exception(f\"Exception: {e}\")"
   ]
  },
  {
   "cell_type": "code",
   "execution_count": null,
   "id": "0c187386-e708-4821-b245-b897c79e2c2e",
   "metadata": {},
   "outputs": [],
   "source": []
  }
 ],
 "metadata": {
  "kernelspec": {
   "display_name": "Python 3 (ipykernel)",
   "language": "python",
   "name": "python3"
  },
  "language_info": {
   "codemirror_mode": {
    "name": "ipython",
    "version": 3
   },
   "file_extension": ".py",
   "mimetype": "text/x-python",
   "name": "python",
   "nbconvert_exporter": "python",
   "pygments_lexer": "ipython3",
   "version": "3.9.6"
  }
 },
 "nbformat": 4,
 "nbformat_minor": 5
}
